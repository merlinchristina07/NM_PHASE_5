{
  "nbformat": 4,
  "nbformat_minor": 0,
  "metadata": {
    "colab": {
      "provenance": [],
      "authorship_tag": "ABX9TyM9GQsvuXVoxr3BHS07eZ5F",
      "include_colab_link": true
    },
    "kernelspec": {
      "name": "python3",
      "display_name": "Python 3"
    },
    "language_info": {
      "name": "python"
    }
  },
  "cells": [
    {
      "cell_type": "markdown",
      "metadata": {
        "id": "view-in-github",
        "colab_type": "text"
      },
      "source": [
        "<a href=\"https://colab.research.google.com/github/merlinchristina07/NM_PHASE_5/blob/main/Copy_of_NM_Phase_5.ipynb\" target=\"_parent\"><img src=\"https://colab.research.google.com/assets/colab-badge.svg\" alt=\"Open In Colab\"/></a>"
      ]
    },
    {
      "cell_type": "code",
      "execution_count": null,
      "metadata": {
        "colab": {
          "base_uri": "https://localhost:8080/"
        },
        "id": "D7Qvy7Dbi3ll",
        "outputId": "4ea1d387-c00a-4a37-d38c-07ce60c80c75"
      },
      "outputs": [
        {
          "output_type": "stream",
          "name": "stdout",
          "text": [
            "Collecting langdetect\n",
            "  Downloading langdetect-1.0.9.tar.gz (981 kB)\n",
            "\u001b[?25l     \u001b[90m━━━━━━━━━━━━━━━━━━━━━━━━━━━━━━━━━━━━━━━━\u001b[0m \u001b[32m0.0/981.5 kB\u001b[0m \u001b[31m?\u001b[0m eta \u001b[36m-:--:--\u001b[0m\r\u001b[2K     \u001b[91m━━━━\u001b[0m\u001b[90m╺\u001b[0m\u001b[90m━━━━━━━━━━━━━━━━━━━━━━━━━━━━━━━━━━\u001b[0m \u001b[32m112.6/981.5 kB\u001b[0m \u001b[31m4.0 MB/s\u001b[0m eta \u001b[36m0:00:01\u001b[0m\r\u001b[2K     \u001b[91m━━━━━━━━━━━━━━━━━━━━━━━━━━━━━━━━━━━━━\u001b[0m\u001b[91m╸\u001b[0m \u001b[32m972.8/981.5 kB\u001b[0m \u001b[31m14.3 MB/s\u001b[0m eta \u001b[36m0:00:01\u001b[0m\r\u001b[2K     \u001b[90m━━━━━━━━━━━━━━━━━━━━━━━━━━━━━━━━━━━━━━\u001b[0m \u001b[32m981.5/981.5 kB\u001b[0m \u001b[31m10.9 MB/s\u001b[0m eta \u001b[36m0:00:00\u001b[0m\n",
            "\u001b[?25h  Preparing metadata (setup.py) ... \u001b[?25l\u001b[?25hdone\n",
            "Requirement already satisfied: textblob in /usr/local/lib/python3.11/dist-packages (0.19.0)\n",
            "Requirement already satisfied: six in /usr/local/lib/python3.11/dist-packages (from langdetect) (1.17.0)\n",
            "Requirement already satisfied: nltk>=3.9 in /usr/local/lib/python3.11/dist-packages (from textblob) (3.9.1)\n",
            "Requirement already satisfied: click in /usr/local/lib/python3.11/dist-packages (from nltk>=3.9->textblob) (8.1.8)\n",
            "Requirement already satisfied: joblib in /usr/local/lib/python3.11/dist-packages (from nltk>=3.9->textblob) (1.5.0)\n",
            "Requirement already satisfied: regex>=2021.8.3 in /usr/local/lib/python3.11/dist-packages (from nltk>=3.9->textblob) (2024.11.6)\n",
            "Requirement already satisfied: tqdm in /usr/local/lib/python3.11/dist-packages (from nltk>=3.9->textblob) (4.67.1)\n",
            "Building wheels for collected packages: langdetect\n",
            "  Building wheel for langdetect (setup.py) ... \u001b[?25l\u001b[?25hdone\n",
            "  Created wheel for langdetect: filename=langdetect-1.0.9-py3-none-any.whl size=993223 sha256=ac9d16e7f6694e00fb490fe51617b35b7371e57d8af350b52816328783709886\n",
            "  Stored in directory: /root/.cache/pip/wheels/0a/f2/b2/e5ca405801e05eb7c8ed5b3b4bcf1fcabcd6272c167640072e\n",
            "Successfully built langdetect\n",
            "Installing collected packages: langdetect\n",
            "Successfully installed langdetect-1.0.9\n"
          ]
        }
      ],
      "source": [
        "!pip install langdetect textblob"
      ]
    },
    {
      "cell_type": "code",
      "source": [
        "import nltk\n",
        "nltk.download('punkt')"
      ],
      "metadata": {
        "id": "LXQkOXxfjLqi"
      },
      "execution_count": null,
      "outputs": []
    },
    {
      "cell_type": "code",
      "source": [
        "from langdetect import detect\n",
        "from googletrans import Translator\n",
        "import time\n",
        "import random\n",
        "\n",
        "translator = Translator()\n",
        "\n",
        "# Translate to English if needed\n",
        "def translate_to_english(text):\n",
        "    lang = detect(text)\n",
        "    if lang != 'en':\n",
        "        translated = translator.translate(text, dest='en')\n",
        "        return translated.text, lang\n",
        "    return text, 'en'\n",
        "\n",
        "# Translate back to user's language\n",
        "def translate_from_english(text, lang_code):\n",
        "    if lang_code != 'en':\n",
        "        translated = translator.translate(text, dest=lang_code)\n",
        "        return translated.text\n",
        "    return text\n",
        "\n",
        "# Symptom checker logic\n",
        "def symptom_checker(symptom_input):\n",
        "    conditions = {\n",
        "        \"fever\": \"Possible causes: Flu, COVID-19, or infection.\",\n",
        "        \"cough\": \"Possible causes: Cold, Flu, or Bronchitis.\",\n",
        "        \"chest pain\": \"Possible causes: Heart condition or acid reflux.\",\n",
        "        \"fatigue\": \"Possible causes: Anemia, thyroid issues, or lack of sleep.\"\n",
        "    }\n",
        "    for key in conditions:\n",
        "        if key in symptom_input.lower():\n",
        "            return conditions[key]\n",
        "    return \"Condition unclear. Recommend clinical diagnosis.\"\n",
        "\n",
        "# IoT health data simulator\n",
        "def iot_monitoring():\n",
        "    return {\n",
        "        \"heart_rate\": random.randint(60, 120),\n",
        "        \"blood_pressure\": f\"{random.randint(100, 140)}/{random.randint(60, 90)}\",\n",
        "        \"oxygen_level\": random.randint(90, 100)\n",
        "    }\n",
        "\n",
        "# Chatbot interface with translation\n",
        "def chatbot_interface(user_input):\n",
        "    translated_input, lang = translate_to_english(user_input)\n",
        "    response = symptom_checker(translated_input)\n",
        "    final_response = translate_from_english(response, lang)\n",
        "    return final_response\n",
        "\n",
        "# Feedback mechanism\n",
        "def collect_feedback():\n",
        "    try:\n",
        "        rating = int(input(\"\\nRate the system's accuracy (1–5): \"))\n",
        "        if rating >= 4:\n",
        "            print(\"Thanks for the positive feedback!\")\n",
        "        else:\n",
        "            print(\"We’ll work to improve the system.\")\n",
        "    except:\n",
        "        print(\"Invalid rating. Skipping feedback.\")\n",
        "\n",
        "# Main interaction loop\n",
        "def main():\n",
        "    print(\"Welcome to AI Healthcare Diagnostic System\")\n",
        "    while True:\n",
        "        print(\"\\n1. Symptom Check\")\n",
        "        print(\"2. IoT Monitoring\")\n",
        "        print(\"3. Exit\")\n",
        "        choice = input(\"Choose an option: \")\n",
        "\n",
        "        if choice == '1':\n",
        "            symptoms = input(\"Describe your symptoms: \")\n",
        "            result = chatbot_interface(symptoms)\n",
        "            print(\"AI Response:\", result)\n",
        "            collect_feedback()\n",
        "\n",
        "        elif choice == '2':\n",
        "            print(\"Real-time IoT Health Monitoring:\")\n",
        "            for _ in range(3):\n",
        "                print(iot_monitoring())\n",
        "                time.sleep(1)\n",
        "\n",
        "        elif choice == '3':\n",
        "            print(\"Exiting. Stay healthy!\")\n",
        "            break\n",
        "\n",
        "        else:\n",
        "            print(\"Invalid choice. Try again.\")\n",
        "\n",
        "# Run the system\n",
        "main()"
      ],
      "metadata": {
        "id": "_IXDZFvDjOWE",
        "colab": {
          "base_uri": "https://localhost:8080/"
        },
        "outputId": "f7140966-6c5a-4858-8cf0-5af9f60d8704"
      },
      "execution_count": null,
      "outputs": [
        {
          "output_type": "stream",
          "name": "stdout",
          "text": [
            "Welcome to AI Healthcare Diagnostic System\n",
            "\n",
            "1. Symptom Check\n",
            "2. IoT Monitoring\n",
            "3. Exit\n",
            "Choose an option: 1\n",
            "Describe your symptoms: Fever\n",
            "AI Response: Mulige årsager: influenza, covid-19 eller infektion.\n",
            "\n",
            "Rate the system's accuracy (1–5): 1\n",
            "We’ll work to improve the system.\n",
            "\n",
            "1. Symptom Check\n",
            "2. IoT Monitoring\n",
            "3. Exit\n",
            "Choose an option: 2\n",
            "Real-time IoT Health Monitoring:\n",
            "{'heart_rate': 80, 'blood_pressure': '129/81', 'oxygen_level': 97}\n",
            "{'heart_rate': 77, 'blood_pressure': '107/78', 'oxygen_level': 99}\n",
            "{'heart_rate': 82, 'blood_pressure': '101/77', 'oxygen_level': 97}\n",
            "\n",
            "1. Symptom Check\n",
            "2. IoT Monitoring\n",
            "3. Exit\n",
            "Choose an option: 3\n",
            "Exiting. Stay healthy!\n"
          ]
        }
      ]
    }
  ]
}